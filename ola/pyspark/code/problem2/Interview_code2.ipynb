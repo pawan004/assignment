{
 "cells": [
  {
   "cell_type": "markdown",
   "metadata": {},
   "source": [
    "# Schedule Vaccination of each employees of the company where each city office can conduct its vaccination drive parallely. Each city will get 200 doses in a day "
   ]
  },
  {
   "cell_type": "code",
   "execution_count": null,
   "metadata": {},
   "outputs": [],
   "source": [
    "import os"
   ]
  },
  {
   "cell_type": "code",
   "execution_count": 2,
   "metadata": {},
   "outputs": [
    {
     "name": "stdout",
     "output_type": "stream",
     "text": [
      "Requirement already satisfied: findspark in c:\\programdata\\anaconda3\\lib\\site-packages (1.4.2)\n"
     ]
    }
   ],
   "source": [
    "import sys\n",
    "!{sys.executable} -m pip install findspark"
   ]
  },
  {
   "cell_type": "code",
   "execution_count": 3,
   "metadata": {},
   "outputs": [],
   "source": [
    "os.environ[\"SPARK_HOME\"]=r\"C:\\Users\\pawan palariya\\Downloads\\spark-3.1.2-bin-hadoop3.2\\spark-3.1.2-bin-hadoop3.2\""
   ]
  },
  {
   "cell_type": "code",
   "execution_count": 4,
   "metadata": {},
   "outputs": [],
   "source": [
    "os.environ[\"JAVA_HOME\"] =r\"C:\\Program Files\\Java\\jdk1.8.0_291\"\n",
    "os.environ[\"HADOOP_HOME\"] =r\"C:\\Hadoop\""
   ]
  },
  {
   "cell_type": "code",
   "execution_count": 5,
   "metadata": {},
   "outputs": [],
   "source": [
    "import findspark\n",
    "findspark.init()"
   ]
  },
  {
   "cell_type": "code",
   "execution_count": 6,
   "metadata": {},
   "outputs": [],
   "source": [
    "from pyspark.sql import SparkSession\n",
    "from pyspark.sql.functions import *\n",
    "spark = SparkSession.builder.appName('interview_code').getOrCreate()"
   ]
  },
  {
   "cell_type": "code",
   "execution_count": 7,
   "metadata": {},
   "outputs": [],
   "source": [
    "df_input=spark.read.format(\"csv\").option(\"header\",\"true\").load(r\"C:\\Users\\pawan palariya\\Downloads\\50000-Records\")\n"
   ]
  },
  {
   "cell_type": "code",
   "execution_count": 8,
   "metadata": {},
   "outputs": [],
   "source": [
    "df=df_input.withColumn(\"Full_name\", concat_ws(\" \",col(\"First_Name\"),col(\"Middle_Initial\"),col(\"Last_Name\")))"
   ]
  },
  {
   "cell_type": "code",
   "execution_count": 9,
   "metadata": {},
   "outputs": [],
   "source": [
    "df_citywise_employees=df.groupby(\"city\").count().sort(col(\"count\").desc())"
   ]
  },
  {
   "cell_type": "code",
   "execution_count": 11,
   "metadata": {},
   "outputs": [],
   "source": [
    "list_rows=df_citywise_employees.take(df_citywise_employees.count())"
   ]
  },
  {
   "cell_type": "code",
   "execution_count": 17,
   "metadata": {},
   "outputs": [],
   "source": [
    "from pyspark.sql.types import StructType,StructField, StringType, IntegerType,DateType\n",
    "from datetime import date,timedelta\n",
    "from pyspark.sql import Row\n",
    "date_today=date.today()+timedelta(days=1)\n",
    "id=0\n",
    "rows_list=[]\n",
    "max_days=0\n",
    "vaccination_schema = StructType([ \\\n",
    "    StructField(\"empid\",StringType(),True), \\\n",
    "    StructField(\"empname\",StringType(),True), \\\n",
    "    StructField(\"vaccination_id\",StringType(),True), \\\n",
    "    StructField(\"vaccination_date\", DateType(), True), \\\n",
    "    StructField(\"city\", StringType(), True),\\\n",
    "    StructField(\"vaccination_time\", StringType(), True)])\n",
    "for row in list_rows:\n",
    "    city=row[\"city\"]\n",
    "    df_filter_by_city=df.filter(col(\"city\")==city).select(\"Emp_ID\",\"Full_name\")\n",
    "    city_total_emp=row[\"count\"]\n",
    "    list_emp_details=df_filter_by_city.take(city_total_emp)\n",
    "    vaccination_date=date_today\n",
    "    for i in range(city_total_emp):\n",
    "        day=i//200\n",
    "        max_days=max_days if max_days >= day+1 else day+1\n",
    "        vaccination_date=vaccination_date+timedelta(days=day)\n",
    "        id=id+1\n",
    "        vaccination_id=\"emp_00\"+str(id)\n",
    "        empid=list_emp_details[i][\"Emp_ID\"]\n",
    "        empname=list_emp_details[i][\"Full_name\"]\n",
    "        if(i%4==0):\n",
    "            vaccination_time=\"9am-11am\"\n",
    "        elif(i%4==1):\n",
    "            vaccination_time=\"11am-1pm\"\n",
    "        elif(i%4==2):\n",
    "            vaccination_time=\"2pm-4pm\"\n",
    "        else:\n",
    "            vaccination_time=\"4pm-6pm\"\n",
    "        row=Row(empid=empid,empname=empname,vaccination_id=vaccination_id,vaccination_date=vaccination_date,city=city,vaccination_time=vaccination_time)\n",
    "        rows_list.append(row)\n",
    "df=spark.createDataFrame(rows_list,vaccination_schema)\n"
   ]
  },
  {
   "cell_type": "code",
   "execution_count": 22,
   "metadata": {},
   "outputs": [
    {
     "name": "stdout",
     "output_type": "stream",
     "text": [
      "total_number of days to vaccinating employees= 2\n"
     ]
    }
   ],
   "source": [
    "print(\"total_number of days to vaccinating employees=\",max_days)"
   ]
  },
  {
   "cell_type": "code",
   "execution_count": 20,
   "metadata": {},
   "outputs": [
    {
     "data": {
      "text/plain": [
       "50000"
      ]
     },
     "execution_count": 20,
     "metadata": {},
     "output_type": "execute_result"
    }
   ],
   "source": [
    "df.count()"
   ]
  },
  {
   "cell_type": "code",
   "execution_count": 21,
   "metadata": {},
   "outputs": [
    {
     "name": "stdout",
     "output_type": "stream",
     "text": [
      "+------+---------------+--------------+----------------+----------+----------------+\n",
      "| empid|        empname|vaccination_id|vaccination_date|      city|vaccination_time|\n",
      "+------+---------------+--------------+----------------+----------+----------------+\n",
      "|188762| Ellis V Mcneel|       emp_001|      2022-06-04|Washington|        9am-11am|\n",
      "|876349|Collin V Gimbel|       emp_002|      2022-06-04|Washington|        11am-1pm|\n",
      "|781210|Virgilio R Muro|       emp_003|      2022-06-04|Washington|         2pm-4pm|\n",
      "|181631| Sheilah D Elam|       emp_004|      2022-06-04|Washington|         4pm-6pm|\n",
      "|735320|Wilmer Z Carman|       emp_005|      2022-06-04|Washington|        9am-11am|\n",
      "+------+---------------+--------------+----------------+----------+----------------+\n",
      "only showing top 5 rows\n",
      "\n"
     ]
    }
   ],
   "source": [
    "df.show(5)"
   ]
  },
  {
   "cell_type": "code",
   "execution_count": null,
   "metadata": {},
   "outputs": [],
   "source": []
  }
 ],
 "metadata": {
  "kernelspec": {
   "display_name": "Python 3",
   "language": "python",
   "name": "python3"
  },
  "language_info": {
   "codemirror_mode": {
    "name": "ipython",
    "version": 3
   },
   "file_extension": ".py",
   "mimetype": "text/x-python",
   "name": "python",
   "nbconvert_exporter": "python",
   "pygments_lexer": "ipython3",
   "version": "3.7.1"
  }
 },
 "nbformat": 4,
 "nbformat_minor": 2
}
