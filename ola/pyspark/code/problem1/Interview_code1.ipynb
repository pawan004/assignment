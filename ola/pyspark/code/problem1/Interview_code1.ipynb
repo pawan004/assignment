{
 "cells": [
  {
   "cell_type": "markdown",
   "metadata": {},
   "source": [
    "# Schedule Vaccination of each employees of the company. Where vaccination is done in the descending order of employees count per city. Vaccination of 200 employees is possible in one day per city. Vaccine can be done at atmost one city on a single day"
   ]
  },
  {
   "cell_type": "code",
   "execution_count": null,
   "metadata": {},
   "outputs": [],
   "source": [
    "import os\n"
   ]
  },
  {
   "cell_type": "code",
   "execution_count": 2,
   "metadata": {},
   "outputs": [
    {
     "name": "stdout",
     "output_type": "stream",
     "text": [
      "Requirement already satisfied: findspark in c:\\programdata\\anaconda3\\lib\\site-packages (1.4.2)\n"
     ]
    }
   ],
   "source": [
    "import sys\n",
    "!{sys.executable} -m pip install findspark"
   ]
  },
  {
   "cell_type": "code",
   "execution_count": 3,
   "metadata": {},
   "outputs": [],
   "source": [
    "os.environ[\"SPARK_HOME\"]=r\"C:\\Users\\pawan palariya\\Downloads\\spark-3.1.2-bin-hadoop3.2\\spark-3.1.2-bin-hadoop3.2\""
   ]
  },
  {
   "cell_type": "code",
   "execution_count": 4,
   "metadata": {},
   "outputs": [],
   "source": [
    "os.environ[\"JAVA_HOME\"] =r\"C:\\Program Files\\Java\\jdk1.8.0_291\"\n",
    "os.environ[\"HADOOP_HOME\"] =r\"C:\\Hadoop\""
   ]
  },
  {
   "cell_type": "code",
   "execution_count": 5,
   "metadata": {},
   "outputs": [],
   "source": [
    "import findspark\n",
    "findspark.init()"
   ]
  },
  {
   "cell_type": "code",
   "execution_count": 6,
   "metadata": {},
   "outputs": [],
   "source": [
    "from pyspark.sql import SparkSession\n",
    "from pyspark.sql.functions import *\n",
    "spark = SparkSession.builder.appName('interview_code').getOrCreate()"
   ]
  },
  {
   "cell_type": "code",
   "execution_count": 61,
   "metadata": {},
   "outputs": [],
   "source": [
    "df_input=spark.read.format(\"csv\").option(\"header\",\"true\").load(r\"C:\\Users\\pawan palariya\\Downloads\\50000-Records\")\n"
   ]
  },
  {
   "cell_type": "code",
   "execution_count": 73,
   "metadata": {},
   "outputs": [],
   "source": [
    "df=df_input.withColumn(\"Full_name\", concat_ws(\" \",col(\"First_Name\"),col(\"Middle_Initial\"),col(\"Last_Name\")))"
   ]
  },
  {
   "cell_type": "code",
   "execution_count": 74,
   "metadata": {},
   "outputs": [
    {
     "data": {
      "text/plain": [
       "50000"
      ]
     },
     "execution_count": 74,
     "metadata": {},
     "output_type": "execute_result"
    }
   ],
   "source": [
    "df.count()\n"
   ]
  },
  {
   "cell_type": "code",
   "execution_count": 75,
   "metadata": {},
   "outputs": [
    {
     "name": "stdout",
     "output_type": "stream",
     "text": [
      "+------+-------------------+\n",
      "|Emp_Id|          Full_Name|\n",
      "+------+-------------------+\n",
      "|158108|Bernard N Weatherly|\n",
      "|863655|     Cordia M Knopp|\n",
      "|343966|       Burton C Jin|\n",
      "|389958|     Lauren O Guzzi|\n",
      "+------+-------------------+\n",
      "only showing top 4 rows\n",
      "\n"
     ]
    }
   ],
   "source": [
    "df.select(\"Emp_Id\",\"Full_Name\").show(4)"
   ]
  },
  {
   "cell_type": "code",
   "execution_count": 76,
   "metadata": {},
   "outputs": [
    {
     "name": "stdout",
     "output_type": "stream",
     "text": [
      "root\n",
      " |-- Emp_ID: string (nullable = true)\n",
      " |-- Name_Prefix: string (nullable = true)\n",
      " |-- First_Name: string (nullable = true)\n",
      " |-- Middle_Initial: string (nullable = true)\n",
      " |-- Last_Name: string (nullable = true)\n",
      " |-- Gender: string (nullable = true)\n",
      " |-- E Mail: string (nullable = true)\n",
      " |-- Father's Name: string (nullable = true)\n",
      " |-- Mother's Name: string (nullable = true)\n",
      " |-- Mother's Maiden Name: string (nullable = true)\n",
      " |-- Date of Birth: string (nullable = true)\n",
      " |-- Time of Birth: string (nullable = true)\n",
      " |-- Age in Yrs.: string (nullable = true)\n",
      " |-- Weight in Kgs.: string (nullable = true)\n",
      " |-- Date of Joining: string (nullable = true)\n",
      " |-- Quarter of Joining: string (nullable = true)\n",
      " |-- Half of Joining: string (nullable = true)\n",
      " |-- Year of Joining: string (nullable = true)\n",
      " |-- Month of Joining: string (nullable = true)\n",
      " |-- Month Name of Joining: string (nullable = true)\n",
      " |-- Short Month: string (nullable = true)\n",
      " |-- Day of Joining: string (nullable = true)\n",
      " |-- DOW of Joining: string (nullable = true)\n",
      " |-- Short DOW: string (nullable = true)\n",
      " |-- Age in Company (Years): string (nullable = true)\n",
      " |-- Salary: string (nullable = true)\n",
      " |-- Last % Hike: string (nullable = true)\n",
      " |-- SSN: string (nullable = true)\n",
      " |-- Phone No. : string (nullable = true)\n",
      " |-- Place Name: string (nullable = true)\n",
      " |-- County: string (nullable = true)\n",
      " |-- City: string (nullable = true)\n",
      " |-- State: string (nullable = true)\n",
      " |-- Zip: string (nullable = true)\n",
      " |-- Region: string (nullable = true)\n",
      " |-- User Name: string (nullable = true)\n",
      " |-- Password: string (nullable = true)\n",
      " |-- Full_name: string (nullable = false)\n",
      "\n"
     ]
    }
   ],
   "source": [
    "df.printSchema()"
   ]
  },
  {
   "cell_type": "code",
   "execution_count": 77,
   "metadata": {},
   "outputs": [],
   "source": [
    "df_citywise_employees=df.groupby(\"city\").count().sort(col(\"count\").desc())"
   ]
  },
  {
   "cell_type": "code",
   "execution_count": 78,
   "metadata": {},
   "outputs": [
    {
     "name": "stdout",
     "output_type": "stream",
     "text": [
      "+-------------+-----+\n",
      "|         city|count|\n",
      "+-------------+-----+\n",
      "|   Washington|  368|\n",
      "|      Houston|  206|\n",
      "|New York City|  196|\n",
      "|      El Paso|  188|\n",
      "|       Dallas|  160|\n",
      "|  Springfield|  147|\n",
      "|      Atlanta|  143|\n",
      "|        Miami|  137|\n",
      "|   Sacramento|  134|\n",
      "|     Richmond|  124|\n",
      "|  San Antonio|  115|\n",
      "|  Los Angeles|  113|\n",
      "|       Austin|  108|\n",
      "|       Denver|  107|\n",
      "|  Kansas City|  104|\n",
      "| Philadelphia|   99|\n",
      "|    Las Vegas|   99|\n",
      "|      Phoenix|   98|\n",
      "|      Chicago|   98|\n",
      "|       Albany|   96|\n",
      "+-------------+-----+\n",
      "only showing top 20 rows\n",
      "\n"
     ]
    }
   ],
   "source": [
    "df_citywise_employees.show()"
   ]
  },
  {
   "cell_type": "code",
   "execution_count": 79,
   "metadata": {},
   "outputs": [],
   "source": [
    "list_rows=df_citywise_employees.take(df_citywise_employees.count())"
   ]
  },
  {
   "cell_type": "code",
   "execution_count": 80,
   "metadata": {},
   "outputs": [
    {
     "data": {
      "text/plain": [
       "list"
      ]
     },
     "execution_count": 80,
     "metadata": {},
     "output_type": "execute_result"
    }
   ],
   "source": [
    "type(list_rows)"
   ]
  },
  {
   "cell_type": "code",
   "execution_count": 82,
   "metadata": {},
   "outputs": [
    {
     "data": {
      "text/plain": [
       "14552"
      ]
     },
     "execution_count": 82,
     "metadata": {},
     "output_type": "execute_result"
    }
   ],
   "source": [
    "len(list_rows)"
   ]
  },
  {
   "cell_type": "code",
   "execution_count": 140,
   "metadata": {},
   "outputs": [],
   "source": [
    "from pyspark.sql.types import StructType,StructField, StringType, IntegerType,DateType\n",
    "from datetime import date,timedelta\n",
    "from pyspark.sql import Row\n",
    "date_today=date.today()+timedelta(days=1)\n",
    "id=0\n",
    "rows_list=[]\n",
    "vaccination_schema = StructType([ \\\n",
    "    StructField(\"empid\",StringType(),True), \\\n",
    "    StructField(\"empname\",StringType(),True), \\\n",
    "    StructField(\"vaccination_id\",StringType(),True), \\\n",
    "    StructField(\"vaccination_date\", DateType(), True), \\\n",
    "    StructField(\"city\", StringType(), True),\\\n",
    "    StructField(\"vaccination_time\", StringType(), True)])\n",
    "for row in list_rows:\n",
    "    city=row[\"city\"]\n",
    "    df_filter_by_city=df.filter(col(\"city\")==city).select(\"Emp_ID\",\"Full_name\")\n",
    "    city_total_emp=row[\"count\"]\n",
    "    list_emp_details=df_filter_by_city.take(city_total_emp)\n",
    "    for i in range(city_total_emp):\n",
    "        day=i//200\n",
    "        date_today=date_today+timedelta(days=day)\n",
    "        id=id+1\n",
    "        vaccination_id=\"emp_00\"+str(id)\n",
    "        empid=list_emp_details[i][\"Emp_ID\"]\n",
    "        empname=list_emp_details[i][\"Full_name\"]\n",
    "        if(i%4==0):\n",
    "            vaccination_time=\"9am-11am\"\n",
    "        elif(i%4==1):\n",
    "            vaccination_time=\"11am-1pm\"\n",
    "        elif(i%4==2):\n",
    "            vaccination_time=\"2pm-4pm\"\n",
    "        else:\n",
    "            vaccination_time=\"4pm-6pm\"\n",
    "        row=Row(empid=empid,empname=empname,vaccination_id=vaccination_id,vaccination_date=date_today,city=city,vaccination_time=vaccination_time)\n",
    "        rows_list.append(row)\n",
    "df=spark.createDataFrame(rows_list,vaccination_schema)\n"
   ]
  },
  {
   "cell_type": "code",
   "execution_count": 142,
   "metadata": {},
   "outputs": [
    {
     "data": {
      "text/plain": [
       "50000"
      ]
     },
     "execution_count": 142,
     "metadata": {},
     "output_type": "execute_result"
    }
   ],
   "source": [
    "df.count()"
   ]
  },
  {
   "cell_type": "code",
   "execution_count": 145,
   "metadata": {},
   "outputs": [
    {
     "name": "stdout",
     "output_type": "stream",
     "text": [
      "+------+--------------+--------------+----------------+----------+----------------+\n",
      "| empid|       empname|vaccination_id|vaccination_date|      city|vaccination_time|\n",
      "+------+--------------+--------------+----------------+----------+----------------+\n",
      "|188762|Ellis V Mcneel|       emp_001|      2022-06-03|Washington|        9am-11am|\n",
      "+------+--------------+--------------+----------------+----------+----------------+\n",
      "only showing top 1 row\n",
      "\n"
     ]
    }
   ],
   "source": [
    "df.show(1)"
   ]
  },
  {
   "cell_type": "code",
   "execution_count": null,
   "metadata": {},
   "outputs": [],
   "source": []
  }
 ],
 "metadata": {
  "kernelspec": {
   "display_name": "Python 3",
   "language": "python",
   "name": "python3"
  },
  "language_info": {
   "codemirror_mode": {
    "name": "ipython",
    "version": 3
   },
   "file_extension": ".py",
   "mimetype": "text/x-python",
   "name": "python",
   "nbconvert_exporter": "python",
   "pygments_lexer": "ipython3",
   "version": "3.7.1"
  }
 },
 "nbformat": 4,
 "nbformat_minor": 2
}
